{
 "cells": [
  {
   "cell_type": "markdown",
   "id": "775b5986",
   "metadata": {},
   "source": [
    "# 信息检索作业\n",
    "选择一定量的文本数据集，计算TF-IDF，绘制曲线并分析"
   ]
  },
  {
   "cell_type": "code",
   "execution_count": 1,
   "id": "c4c922f3",
   "metadata": {},
   "outputs": [],
   "source": [
    "import re\n",
    "import collections\n",
    "from pathlib import Path\n",
    "import numpy as np"
   ]
  },
  {
   "cell_type": "markdown",
   "id": "4b2a7424",
   "metadata": {},
   "source": [
    "## 读取文本数据"
   ]
  },
  {
   "cell_type": "code",
   "execution_count": 2,
   "id": "8f79bb4f",
   "metadata": {},
   "outputs": [
    {
     "name": "stdout",
     "output_type": "stream",
     "text": [
      "2225\n",
      "# sentences 2225\n"
     ]
    }
   ],
   "source": [
    "# 读取文本数据\n",
    "def read_files(files_path):\n",
    "    # 遍历路径下所有文件\n",
    "    p = Path(files_path)\n",
    "    files_num = 0\n",
    "    files_names = []\n",
    "    #lines = []\n",
    "    texts = []\n",
    "    # 寻找路径下所有文本文件\n",
    "    for file in p.rglob('*.txt'):\n",
    "        #print(file)\n",
    "        #files_names.append(str(file))  # 记录文本文件名称\n",
    "        files_num += 1  # 记录文本文件总数\n",
    "        lines = ''\n",
    "        with open(file, 'r', encoding = 'utf-8', errors='ignore') as f:\n",
    "            # 按行处理，lower()将大写变为小写\n",
    "            # re.sub()将用第三个属性的元素替换第二个属性的元素\n",
    "            #lines.append([re.sub('[^a-z]+', ' ', line.lower()) for line in f])\n",
    "            #print(f)\n",
    "            for line in f:\n",
    "                #print(line)\n",
    "                lines += re.sub('[^a-z]+', ' ', line.lower()) + ' '\n",
    "                #print(lines)\n",
    "            texts.append(lines)\n",
    "        #print(lines[files_num-1])\n",
    "        #print(files_num)\n",
    "    return files_num, texts\n",
    "\n",
    "files_path = r'C:\\Users\\Lenovo\\Desktop\\河海大学\\信息检索技术\\作业\\bbc'\n",
    "files_num, texts = read_files(files_path)  # 读取文本数及每个文本的行数\n",
    "print(files_num)\n",
    "print('# sentences {}'.format(len(texts)))"
   ]
  },
  {
   "cell_type": "code",
   "execution_count": 3,
   "id": "a819c3c3",
   "metadata": {},
   "outputs": [
    {
     "name": "stdout",
     "output_type": "stream",
     "text": [
      "['ad sales boost time warner profit    quarterly profits at us media giant timewarner jumped to bn m for the three months to december from m year earlier    the firm which is now one of the biggest investors in google benefited from sales of high speed internet connections and higher advert sales timewarner said fourth quarter sales rose to bn from bn its profits were buoyed by one off gains which offset a profit dip at warner bros and less users for aol    time warner said on friday that it now owns of search engine google but its own internet business aol had has mixed fortunes it lost subscribers in the fourth quarter profits were lower than in the preceding three quarters however the company said aol s underlying profit before exceptional items rose on the back of stronger internet advertising revenues it hopes to increase subscribers by offering the online service free to timewarner internet customers and will try to sign up aol s existing customers for high speed broadband timewarner also has to restate and results following a probe by the us securities exchange commission sec which is close to concluding    time warner s fourth quarter profits were slightly better than analysts expectations but its film division saw profits slump to m helped by box office flops alexander and catwoman a sharp contrast to year earlier when the third and final film in the lord of the rings trilogy boosted results for the full year timewarner posted a profit of bn up from its performance while revenues grew to bn our financial performance was strong meeting or exceeding all of our full year objectives and greatly enhancing our flexibility chairman and chief executive richard parsons said for timewarner is projecting operating earnings growth of around and also expects higher revenue and wider profit margins    timewarner is to restate its accounts as part of efforts to resolve an inquiry into aol by us market regulators it has already offered to pay m to settle charges in a deal that is under review by the sec the company said it was unable to estimate the amount it needed to set aside for legal reserves which it previously set at m it intends to adjust the way it accounts for a deal with german music publisher bertelsmann s purchase of a stake in aol europe which it had reported as advertising revenue it will now book the sale of its stake in aol europe as a loss on the value of that stake  ', 'dollar gains on greenspan speech    the dollar has hit its highest level against the euro in almost three months after the federal reserve head said the us trade deficit is set to stabilise    and alan greenspan highlighted the us government s willingness to curb spending and rising household savings as factors which may help to reduce it in late trading in new york the dollar reached against the euro from on thursday market concerns about the deficit has hit the greenback in recent months on friday federal reserve chairman mr greenspan s speech in london ahead of the meeting of g finance ministers sent the dollar higher after it had earlier tumbled on the back of worse than expected us jobs data i think the chairman s taking a much more sanguine view on the current account deficit than he s taken for some time said robert sinche head of currency strategy at bank of america in new york he s taking a longer term view laying out a set of conditions under which the current account deficit can improve this year and next    worries about the deficit concerns about china do however remain china s currency remains pegged to the dollar and the us currency s sharp falls in recent months have therefore made chinese export prices highly competitive but calls for a shift in beijing s policy have fallen on deaf ears despite recent comments in a major chinese newspaper that the time is ripe for a loosening of the peg the g meeting is thought unlikely to produce any meaningful movement in chinese policy in the meantime the us federal reserve s decision on february to boost interest rates by a quarter of a point the sixth such move in as many months has opened up a differential with european rates the half point window some believe could be enough to keep us assets looking more attractive and could help prop up the dollar the recent falls have partly been the result of big budget deficits as well as the us s yawning current account gap both of which need to be funded by the buying of us bonds and assets by foreign firms and governments the white house will announce its budget on monday and many commentators believe the deficit will remain at close to half a trillion dollars  ', 'yukos unit buyer faces loan claim    the owners of embattled russian oil giant yukos are to ask the buyer of its former production unit to pay back a m m loan    state owned rosneft bought the yugansk unit for bn in a sale forced by russia to part settle a bn tax claim against yukos yukos owner menatep group says it will ask rosneft to repay a loan that yugansk had secured on its assets rosneft already faces a similar m repayment demand from foreign banks legal experts said rosneft s purchase of yugansk would include such obligations the pledged assets are with rosneft so it will have to pay real money to the creditors to avoid seizure of yugansk assets said moscow based us lawyer jamie firestone who is not connected to the case menatep group s managing director tim osborne told the reuters news agency if they default we will fight them where the rule of law exists under the international arbitration clauses of the credit    rosneft officials were unavailable for comment but the company has said it intends to take action against menatep to recover some of the tax claims and debts owed by yugansk yukos had filed for bankruptcy protection in a us court in an attempt to prevent the forced sale of its main production arm the sale went ahead in december and yugansk was sold to a little known shell company which in turn was bought by rosneft yukos claims its downfall was punishment for the political ambitions of its founder mikhail khodorkovsky and has vowed to sue any participant in the sale  ', 'high fuel prices hit ba s profits    british airways has blamed high fuel prices for a drop in profits    reporting its results for the three months to december the airline made a pre tax profit of m m compared with m a year earlier rod eddington ba s chief executive said the results were respectable in a third quarter when fuel costs rose by m or ba s profits were still better than market expectation of m and it expects a rise in full year revenues    to help offset the increased price of aviation fuel ba last year introduced a fuel surcharge for passengers    in october it increased this from to one way for all long haul flights while the short haul surcharge was raised from to a leg yet aviation analyst mike powell of dresdner kleinwort wasserstein says ba s estimated annual surcharge revenues m will still be way short of its additional fuel costs a predicted extra m turnover for the quarter was up to bn further benefiting from a rise in cargo revenue looking ahead to its full year results to march ba warned that yields average revenues per passenger were expected to decline as it continues to lower prices in the face of competition from low cost carriers however it said sales would be better than previously forecast for the year to march the total revenue outlook is slightly better than previous guidance with a to improvement anticipated ba chairman martin broughton said ba had previously forecast a to rise in full year revenue    it also reported on friday that passenger numbers rose in january aviation analyst nick van den brul of bnp paribas described ba s latest quarterly results as pretty modest it is quite good on the revenue side and it shows the impact of fuel surcharges and a positive cargo development however operating margins down and cost impact of fuel are very strong he said since the september attacks in the united states ba has cut jobs as part of a major cost cutting drive our focus remains on reducing controllable costs and debt whilst continuing to invest in our products mr eddington said for example we have taken delivery of six airbus a aircraft and next month we will start further improvements to our club world flat beds ba s shares closed up four pence at pence  ', 'pernod takeover talk lifts domecq    shares in uk drinks and food firm allied domecq have risen on speculation that it could be the target of a takeover by france s pernod ricard    reports in the wall street journal and the financial times suggested that the french spirits firm is considering a bid but has yet to contact its target allied domecq shares in london rose by gmt while pernod shares in paris slipped pernod said it was seeking acquisitions but refused to comment on specifics    pernod s last major purchase was a third of us giant seagram in the move which propelled it into the global top three of drinks firms the other two thirds of seagram was bought by market leader diageo in terms of market value pernod at bn euros bn is about smaller than allied domecq which has a capitalisation of bn bn bn euros last year pernod tried to buy glenmorangie one of scotland s premier whisky firms but lost out to luxury goods firm lvmh pernod is home to brands including chivas regal scotch whisky havana club rum and jacob s creek wine allied domecq s big names include malibu rum courvoisier brandy stolichnaya vodka and ballantine s whisky as well as snack food chains such as dunkin donuts and baskin robbins ice cream the wsj said that the two were ripe for consolidation having each dealt with problematic parts of their portfolio pernod has reduced the debt it took on to fund the seagram purchase to just bn euros while allied has improved the performance of its fast food chains  ']\n"
     ]
    }
   ],
   "source": [
    "print(texts[0:5])\n",
    "#print(lines[1511:1513])"
   ]
  },
  {
   "cell_type": "markdown",
   "id": "d538d3fc",
   "metadata": {},
   "source": [
    "## 分词"
   ]
  },
  {
   "cell_type": "code",
   "execution_count": 4,
   "id": "486a1644",
   "metadata": {},
   "outputs": [
    {
     "data": {
      "text/plain": [
       "'\\ntokens = []\\ntokens_whole = []\\nfor n in range(files_num):\\n    tokens.append(tokenize(lines[n]))\\n    tokens_whole += tokens[n]\\ntokens[0:4][0:4]\\n'"
      ]
     },
     "execution_count": 4,
     "metadata": {},
     "output_type": "execute_result"
    }
   ],
   "source": [
    "# 分词\n",
    "def tokenize(sentences, token='word'):\n",
    "    \"\"\"Split sentences into word or char tokens\"\"\"\n",
    "    if token == 'word':  # 在单词级别做分词\n",
    "        return [sentence.split(' ') for sentence in sentences]\n",
    "    elif token == 'char':\n",
    "        return [list(sentence) for sentence in sentences]\n",
    "    else:\n",
    "        print('ERROR: unkown token type '+token)"
   ]
  },
  {
   "cell_type": "code",
   "execution_count": 5,
   "id": "3b1dd90d",
   "metadata": {
    "scrolled": true
   },
   "outputs": [
    {
     "name": "stdout",
     "output_type": "stream",
     "text": [
      "[['ad', 'sales', 'boost', 'time', 'warner', 'profit', '', '', '', 'quarterly', 'profits', 'at', 'us', 'media', 'giant', 'timewarner', 'jumped', 'to', 'bn', 'm', 'for', 'the', 'three', 'months', 'to', 'december', 'from', 'm', 'year', 'earlier', '', '', '', 'the', 'firm', 'which', 'is', 'now', 'one', 'of', 'the', 'biggest', 'investors', 'in', 'google', 'benefited', 'from', 'sales', 'of', 'high', 'speed', 'internet', 'connections', 'and', 'higher', 'advert', 'sales', 'timewarner', 'said', 'fourth', 'quarter', 'sales', 'rose', 'to', 'bn', 'from', 'bn', 'its', 'profits', 'were', 'buoyed', 'by', 'one', 'off', 'gains', 'which', 'offset', 'a', 'profit', 'dip', 'at', 'warner', 'bros', 'and', 'less', 'users', 'for', 'aol', '', '', '', 'time', 'warner', 'said', 'on', 'friday', 'that', 'it', 'now', 'owns', 'of', 'search', 'engine', 'google', 'but', 'its', 'own', 'internet', 'business', 'aol', 'had', 'has', 'mixed', 'fortunes', 'it', 'lost', 'subscribers', 'in', 'the', 'fourth', 'quarter', 'profits', 'were', 'lower', 'than', 'in', 'the', 'preceding', 'three', 'quarters', 'however', 'the', 'company', 'said', 'aol', 's', 'underlying', 'profit', 'before', 'exceptional', 'items', 'rose', 'on', 'the', 'back', 'of', 'stronger', 'internet', 'advertising', 'revenues', 'it', 'hopes', 'to', 'increase', 'subscribers', 'by', 'offering', 'the', 'online', 'service', 'free', 'to', 'timewarner', 'internet', 'customers', 'and', 'will', 'try', 'to', 'sign', 'up', 'aol', 's', 'existing', 'customers', 'for', 'high', 'speed', 'broadband', 'timewarner', 'also', 'has', 'to', 'restate', 'and', 'results', 'following', 'a', 'probe', 'by', 'the', 'us', 'securities', 'exchange', 'commission', 'sec', 'which', 'is', 'close', 'to', 'concluding', '', '', '', 'time', 'warner', 's', 'fourth', 'quarter', 'profits', 'were', 'slightly', 'better', 'than', 'analysts', 'expectations', 'but', 'its', 'film', 'division', 'saw', 'profits', 'slump', 'to', 'm', 'helped', 'by', 'box', 'office', 'flops', 'alexander', 'and', 'catwoman', 'a', 'sharp', 'contrast', 'to', 'year', 'earlier', 'when', 'the', 'third', 'and', 'final', 'film', 'in', 'the', 'lord', 'of', 'the', 'rings', 'trilogy', 'boosted', 'results', 'for', 'the', 'full', 'year', 'timewarner', 'posted', 'a', 'profit', 'of', 'bn', 'up', 'from', 'its', 'performance', 'while', 'revenues', 'grew', 'to', 'bn', 'our', 'financial', 'performance', 'was', 'strong', 'meeting', 'or', 'exceeding', 'all', 'of', 'our', 'full', 'year', 'objectives', 'and', 'greatly', 'enhancing', 'our', 'flexibility', 'chairman', 'and', 'chief', 'executive', 'richard', 'parsons', 'said', 'for', 'timewarner', 'is', 'projecting', 'operating', 'earnings', 'growth', 'of', 'around', 'and', 'also', 'expects', 'higher', 'revenue', 'and', 'wider', 'profit', 'margins', '', '', '', 'timewarner', 'is', 'to', 'restate', 'its', 'accounts', 'as', 'part', 'of', 'efforts', 'to', 'resolve', 'an', 'inquiry', 'into', 'aol', 'by', 'us', 'market', 'regulators', 'it', 'has', 'already', 'offered', 'to', 'pay', 'm', 'to', 'settle', 'charges', 'in', 'a', 'deal', 'that', 'is', 'under', 'review', 'by', 'the', 'sec', 'the', 'company', 'said', 'it', 'was', 'unable', 'to', 'estimate', 'the', 'amount', 'it', 'needed', 'to', 'set', 'aside', 'for', 'legal', 'reserves', 'which', 'it', 'previously', 'set', 'at', 'm', 'it', 'intends', 'to', 'adjust', 'the', 'way', 'it', 'accounts', 'for', 'a', 'deal', 'with', 'german', 'music', 'publisher', 'bertelsmann', 's', 'purchase', 'of', 'a', 'stake', 'in', 'aol', 'europe', 'which', 'it', 'had', 'reported', 'as', 'advertising', 'revenue', 'it', 'will', 'now', 'book', 'the', 'sale', 'of', 'its', 'stake', 'in', 'aol', 'europe', 'as', 'a', 'loss', 'on', 'the', 'value', 'of', 'that', 'stake', '', ''], ['dollar', 'gains', 'on', 'greenspan', 'speech', '', '', '', 'the', 'dollar', 'has', 'hit', 'its', 'highest', 'level', 'against', 'the', 'euro', 'in', 'almost', 'three', 'months', 'after', 'the', 'federal', 'reserve', 'head', 'said', 'the', 'us', 'trade', 'deficit', 'is', 'set', 'to', 'stabilise', '', '', '', 'and', 'alan', 'greenspan', 'highlighted', 'the', 'us', 'government', 's', 'willingness', 'to', 'curb', 'spending', 'and', 'rising', 'household', 'savings', 'as', 'factors', 'which', 'may', 'help', 'to', 'reduce', 'it', 'in', 'late', 'trading', 'in', 'new', 'york', 'the', 'dollar', 'reached', 'against', 'the', 'euro', 'from', 'on', 'thursday', 'market', 'concerns', 'about', 'the', 'deficit', 'has', 'hit', 'the', 'greenback', 'in', 'recent', 'months', 'on', 'friday', 'federal', 'reserve', 'chairman', 'mr', 'greenspan', 's', 'speech', 'in', 'london', 'ahead', 'of', 'the', 'meeting', 'of', 'g', 'finance', 'ministers', 'sent', 'the', 'dollar', 'higher', 'after', 'it', 'had', 'earlier', 'tumbled', 'on', 'the', 'back', 'of', 'worse', 'than', 'expected', 'us', 'jobs', 'data', 'i', 'think', 'the', 'chairman', 's', 'taking', 'a', 'much', 'more', 'sanguine', 'view', 'on', 'the', 'current', 'account', 'deficit', 'than', 'he', 's', 'taken', 'for', 'some', 'time', 'said', 'robert', 'sinche', 'head', 'of', 'currency', 'strategy', 'at', 'bank', 'of', 'america', 'in', 'new', 'york', 'he', 's', 'taking', 'a', 'longer', 'term', 'view', 'laying', 'out', 'a', 'set', 'of', 'conditions', 'under', 'which', 'the', 'current', 'account', 'deficit', 'can', 'improve', 'this', 'year', 'and', 'next', '', '', '', 'worries', 'about', 'the', 'deficit', 'concerns', 'about', 'china', 'do', 'however', 'remain', 'china', 's', 'currency', 'remains', 'pegged', 'to', 'the', 'dollar', 'and', 'the', 'us', 'currency', 's', 'sharp', 'falls', 'in', 'recent', 'months', 'have', 'therefore', 'made', 'chinese', 'export', 'prices', 'highly', 'competitive', 'but', 'calls', 'for', 'a', 'shift', 'in', 'beijing', 's', 'policy', 'have', 'fallen', 'on', 'deaf', 'ears', 'despite', 'recent', 'comments', 'in', 'a', 'major', 'chinese', 'newspaper', 'that', 'the', 'time', 'is', 'ripe', 'for', 'a', 'loosening', 'of', 'the', 'peg', 'the', 'g', 'meeting', 'is', 'thought', 'unlikely', 'to', 'produce', 'any', 'meaningful', 'movement', 'in', 'chinese', 'policy', 'in', 'the', 'meantime', 'the', 'us', 'federal', 'reserve', 's', 'decision', 'on', 'february', 'to', 'boost', 'interest', 'rates', 'by', 'a', 'quarter', 'of', 'a', 'point', 'the', 'sixth', 'such', 'move', 'in', 'as', 'many', 'months', 'has', 'opened', 'up', 'a', 'differential', 'with', 'european', 'rates', 'the', 'half', 'point', 'window', 'some', 'believe', 'could', 'be', 'enough', 'to', 'keep', 'us', 'assets', 'looking', 'more', 'attractive', 'and', 'could', 'help', 'prop', 'up', 'the', 'dollar', 'the', 'recent', 'falls', 'have', 'partly', 'been', 'the', 'result', 'of', 'big', 'budget', 'deficits', 'as', 'well', 'as', 'the', 'us', 's', 'yawning', 'current', 'account', 'gap', 'both', 'of', 'which', 'need', 'to', 'be', 'funded', 'by', 'the', 'buying', 'of', 'us', 'bonds', 'and', 'assets', 'by', 'foreign', 'firms', 'and', 'governments', 'the', 'white', 'house', 'will', 'announce', 'its', 'budget', 'on', 'monday', 'and', 'many', 'commentators', 'believe', 'the', 'deficit', 'will', 'remain', 'at', 'close', 'to', 'half', 'a', 'trillion', 'dollars', '', ''], ['yukos', 'unit', 'buyer', 'faces', 'loan', 'claim', '', '', '', 'the', 'owners', 'of', 'embattled', 'russian', 'oil', 'giant', 'yukos', 'are', 'to', 'ask', 'the', 'buyer', 'of', 'its', 'former', 'production', 'unit', 'to', 'pay', 'back', 'a', 'm', 'm', 'loan', '', '', '', 'state', 'owned', 'rosneft', 'bought', 'the', 'yugansk', 'unit', 'for', 'bn', 'in', 'a', 'sale', 'forced', 'by', 'russia', 'to', 'part', 'settle', 'a', 'bn', 'tax', 'claim', 'against', 'yukos', 'yukos', 'owner', 'menatep', 'group', 'says', 'it', 'will', 'ask', 'rosneft', 'to', 'repay', 'a', 'loan', 'that', 'yugansk', 'had', 'secured', 'on', 'its', 'assets', 'rosneft', 'already', 'faces', 'a', 'similar', 'm', 'repayment', 'demand', 'from', 'foreign', 'banks', 'legal', 'experts', 'said', 'rosneft', 's', 'purchase', 'of', 'yugansk', 'would', 'include', 'such', 'obligations', 'the', 'pledged', 'assets', 'are', 'with', 'rosneft', 'so', 'it', 'will', 'have', 'to', 'pay', 'real', 'money', 'to', 'the', 'creditors', 'to', 'avoid', 'seizure', 'of', 'yugansk', 'assets', 'said', 'moscow', 'based', 'us', 'lawyer', 'jamie', 'firestone', 'who', 'is', 'not', 'connected', 'to', 'the', 'case', 'menatep', 'group', 's', 'managing', 'director', 'tim', 'osborne', 'told', 'the', 'reuters', 'news', 'agency', 'if', 'they', 'default', 'we', 'will', 'fight', 'them', 'where', 'the', 'rule', 'of', 'law', 'exists', 'under', 'the', 'international', 'arbitration', 'clauses', 'of', 'the', 'credit', '', '', '', 'rosneft', 'officials', 'were', 'unavailable', 'for', 'comment', 'but', 'the', 'company', 'has', 'said', 'it', 'intends', 'to', 'take', 'action', 'against', 'menatep', 'to', 'recover', 'some', 'of', 'the', 'tax', 'claims', 'and', 'debts', 'owed', 'by', 'yugansk', 'yukos', 'had', 'filed', 'for', 'bankruptcy', 'protection', 'in', 'a', 'us', 'court', 'in', 'an', 'attempt', 'to', 'prevent', 'the', 'forced', 'sale', 'of', 'its', 'main', 'production', 'arm', 'the', 'sale', 'went', 'ahead', 'in', 'december', 'and', 'yugansk', 'was', 'sold', 'to', 'a', 'little', 'known', 'shell', 'company', 'which', 'in', 'turn', 'was', 'bought', 'by', 'rosneft', 'yukos', 'claims', 'its', 'downfall', 'was', 'punishment', 'for', 'the', 'political', 'ambitions', 'of', 'its', 'founder', 'mikhail', 'khodorkovsky', 'and', 'has', 'vowed', 'to', 'sue', 'any', 'participant', 'in', 'the', 'sale', '', ''], ['high', 'fuel', 'prices', 'hit', 'ba', 's', 'profits', '', '', '', 'british', 'airways', 'has', 'blamed', 'high', 'fuel', 'prices', 'for', 'a', 'drop', 'in', 'profits', '', '', '', 'reporting', 'its', 'results', 'for', 'the', 'three', 'months', 'to', 'december', 'the', 'airline', 'made', 'a', 'pre', 'tax', 'profit', 'of', 'm', 'm', 'compared', 'with', 'm', 'a', 'year', 'earlier', 'rod', 'eddington', 'ba', 's', 'chief', 'executive', 'said', 'the', 'results', 'were', 'respectable', 'in', 'a', 'third', 'quarter', 'when', 'fuel', 'costs', 'rose', 'by', 'm', 'or', 'ba', 's', 'profits', 'were', 'still', 'better', 'than', 'market', 'expectation', 'of', 'm', 'and', 'it', 'expects', 'a', 'rise', 'in', 'full', 'year', 'revenues', '', '', '', 'to', 'help', 'offset', 'the', 'increased', 'price', 'of', 'aviation', 'fuel', 'ba', 'last', 'year', 'introduced', 'a', 'fuel', 'surcharge', 'for', 'passengers', '', '', '', 'in', 'october', 'it', 'increased', 'this', 'from', 'to', 'one', 'way', 'for', 'all', 'long', 'haul', 'flights', 'while', 'the', 'short', 'haul', 'surcharge', 'was', 'raised', 'from', 'to', 'a', 'leg', 'yet', 'aviation', 'analyst', 'mike', 'powell', 'of', 'dresdner', 'kleinwort', 'wasserstein', 'says', 'ba', 's', 'estimated', 'annual', 'surcharge', 'revenues', 'm', 'will', 'still', 'be', 'way', 'short', 'of', 'its', 'additional', 'fuel', 'costs', 'a', 'predicted', 'extra', 'm', 'turnover', 'for', 'the', 'quarter', 'was', 'up', 'to', 'bn', 'further', 'benefiting', 'from', 'a', 'rise', 'in', 'cargo', 'revenue', 'looking', 'ahead', 'to', 'its', 'full', 'year', 'results', 'to', 'march', 'ba', 'warned', 'that', 'yields', 'average', 'revenues', 'per', 'passenger', 'were', 'expected', 'to', 'decline', 'as', 'it', 'continues', 'to', 'lower', 'prices', 'in', 'the', 'face', 'of', 'competition', 'from', 'low', 'cost', 'carriers', 'however', 'it', 'said', 'sales', 'would', 'be', 'better', 'than', 'previously', 'forecast', 'for', 'the', 'year', 'to', 'march', 'the', 'total', 'revenue', 'outlook', 'is', 'slightly', 'better', 'than', 'previous', 'guidance', 'with', 'a', 'to', 'improvement', 'anticipated', 'ba', 'chairman', 'martin', 'broughton', 'said', 'ba', 'had', 'previously', 'forecast', 'a', 'to', 'rise', 'in', 'full', 'year', 'revenue', '', '', '', 'it', 'also', 'reported', 'on', 'friday', 'that', 'passenger', 'numbers', 'rose', 'in', 'january', 'aviation', 'analyst', 'nick', 'van', 'den', 'brul', 'of', 'bnp', 'paribas', 'described', 'ba', 's', 'latest', 'quarterly', 'results', 'as', 'pretty', 'modest', 'it', 'is', 'quite', 'good', 'on', 'the', 'revenue', 'side', 'and', 'it', 'shows', 'the', 'impact', 'of', 'fuel', 'surcharges', 'and', 'a', 'positive', 'cargo', 'development', 'however', 'operating', 'margins', 'down', 'and', 'cost', 'impact', 'of', 'fuel', 'are', 'very', 'strong', 'he', 'said', 'since', 'the', 'september', 'attacks', 'in', 'the', 'united', 'states', 'ba', 'has', 'cut', 'jobs', 'as', 'part', 'of', 'a', 'major', 'cost', 'cutting', 'drive', 'our', 'focus', 'remains', 'on', 'reducing', 'controllable', 'costs', 'and', 'debt', 'whilst', 'continuing', 'to', 'invest', 'in', 'our', 'products', 'mr', 'eddington', 'said', 'for', 'example', 'we', 'have', 'taken', 'delivery', 'of', 'six', 'airbus', 'a', 'aircraft', 'and', 'next', 'month', 'we', 'will', 'start', 'further', 'improvements', 'to', 'our', 'club', 'world', 'flat', 'beds', 'ba', 's', 'shares', 'closed', 'up', 'four', 'pence', 'at', 'pence', '', ''], ['pernod', 'takeover', 'talk', 'lifts', 'domecq', '', '', '', 'shares', 'in', 'uk', 'drinks', 'and', 'food', 'firm', 'allied', 'domecq', 'have', 'risen', 'on', 'speculation', 'that', 'it', 'could', 'be', 'the', 'target', 'of', 'a', 'takeover', 'by', 'france', 's', 'pernod', 'ricard', '', '', '', 'reports', 'in', 'the', 'wall', 'street', 'journal', 'and', 'the', 'financial', 'times', 'suggested', 'that', 'the', 'french', 'spirits', 'firm', 'is', 'considering', 'a', 'bid', 'but', 'has', 'yet', 'to', 'contact', 'its', 'target', 'allied', 'domecq', 'shares', 'in', 'london', 'rose', 'by', 'gmt', 'while', 'pernod', 'shares', 'in', 'paris', 'slipped', 'pernod', 'said', 'it', 'was', 'seeking', 'acquisitions', 'but', 'refused', 'to', 'comment', 'on', 'specifics', '', '', '', 'pernod', 's', 'last', 'major', 'purchase', 'was', 'a', 'third', 'of', 'us', 'giant', 'seagram', 'in', 'the', 'move', 'which', 'propelled', 'it', 'into', 'the', 'global', 'top', 'three', 'of', 'drinks', 'firms', 'the', 'other', 'two', 'thirds', 'of', 'seagram', 'was', 'bought', 'by', 'market', 'leader', 'diageo', 'in', 'terms', 'of', 'market', 'value', 'pernod', 'at', 'bn', 'euros', 'bn', 'is', 'about', 'smaller', 'than', 'allied', 'domecq', 'which', 'has', 'a', 'capitalisation', 'of', 'bn', 'bn', 'bn', 'euros', 'last', 'year', 'pernod', 'tried', 'to', 'buy', 'glenmorangie', 'one', 'of', 'scotland', 's', 'premier', 'whisky', 'firms', 'but', 'lost', 'out', 'to', 'luxury', 'goods', 'firm', 'lvmh', 'pernod', 'is', 'home', 'to', 'brands', 'including', 'chivas', 'regal', 'scotch', 'whisky', 'havana', 'club', 'rum', 'and', 'jacob', 's', 'creek', 'wine', 'allied', 'domecq', 's', 'big', 'names', 'include', 'malibu', 'rum', 'courvoisier', 'brandy', 'stolichnaya', 'vodka', 'and', 'ballantine', 's', 'whisky', 'as', 'well', 'as', 'snack', 'food', 'chains', 'such', 'as', 'dunkin', 'donuts', 'and', 'baskin', 'robbins', 'ice', 'cream', 'the', 'wsj', 'said', 'that', 'the', 'two', 'were', 'ripe', 'for', 'consolidation', 'having', 'each', 'dealt', 'with', 'problematic', 'parts', 'of', 'their', 'portfolio', 'pernod', 'has', 'reduced', 'the', 'debt', 'it', 'took', 'on', 'to', 'fund', 'the', 'seagram', 'purchase', 'to', 'just', 'bn', 'euros', 'while', 'allied', 'has', 'improved', 'the', 'performance', 'of', 'its', 'fast', 'food', 'chains', '', '']]\n"
     ]
    }
   ],
   "source": [
    "tokens = tokenize(texts)\n",
    "print(tokens[0:5])"
   ]
  },
  {
   "cell_type": "markdown",
   "id": "23d084c3",
   "metadata": {},
   "source": [
    "## 构建词典， 计算TF、IDF、TF-IDF权重"
   ]
  },
  {
   "cell_type": "code",
   "execution_count": 6,
   "id": "6e651626",
   "metadata": {},
   "outputs": [],
   "source": [
    "# 插入排序\n",
    "def insertionSort(arr1, arr2):\n",
    "    for i in range(len(arr1)):\n",
    "        preIndex = i-1\n",
    "        current1 = arr1[i]\n",
    "        current2 = arr2[i]\n",
    "        while preIndex >= 0 and arr1[preIndex] < current1:\n",
    "            arr1[preIndex+1] = arr1[preIndex]\n",
    "            arr2[preIndex+1] = arr2[preIndex]\n",
    "            preIndex-=1\n",
    "        arr1[preIndex+1] = current1\n",
    "        arr2[preIndex+1] = current2\n",
    "    return arr1, arr2"
   ]
  },
  {
   "cell_type": "code",
   "execution_count": 7,
   "id": "737449ef",
   "metadata": {},
   "outputs": [],
   "source": [
    "#构建词典\n",
    "def count_corpus(sentences):\n",
    "    tokens = [tk for st in sentences for tk in st]\n",
    "    return collections.Counter(tokens)  # 返回一个字典，记录每个词的出现次数\n",
    "\n",
    "class Vocab(object):\n",
    "    def __init__(self, tokens):\n",
    "        # tokens存放所有的词\n",
    "        self.tokens = tokens\n",
    "        counter = count_corpus(tokens)  # 记录词出现的次数，返回键值对 \n",
    "        self.token_freqs = list(counter.items())  # 将词提取出构成列表\n",
    "        #print(self.token_freqs)\n",
    "        self.unk = 0\n",
    "        self.idx_to_token = []\n",
    "        self.idx_to_num = []\n",
    "        self.idx_to_ni = []\n",
    "\n",
    "        for token, freq in self.token_freqs:\n",
    "            if token not in self.idx_to_token:\n",
    "                self.idx_to_token.append(token)\n",
    "                self.idx_to_num.append(freq)\n",
    "                self.idx_to_ni.append(0)\n",
    "                #print(token)\n",
    "        #print(self.idx_to_token)\n",
    "        #print(self.idx_to_num)\n",
    "        self.token_to_idx = dict()\n",
    "        self.token_to_num = dict()\n",
    "        self.token_to_ni = dict()\n",
    "        for idx, token in enumerate(self.idx_to_token):\n",
    "            self.id.append(idx)\n",
    "            #self.token_to_idx[token] = idx\n",
    "            self.token_to_num[token] = self.idx_to_num[idx]\n",
    "            for t in tokens:\n",
    "                if token in t:\n",
    "                    if token in self.token_to_ni:\n",
    "                        self.token_to_ni[token] += 1\n",
    "                    else: self.token_to_ni[token] = 1\n",
    "            self.idx_to_ni[idx] = self.token_to_ni[token]\n",
    "        # 计算TF值\n",
    "        self.idx_to_tf = np.log2(np.array(self.idx_to_num)) + 1\n",
    "        # 计算IDF值\n",
    "        idf = len(self.idx_to_token)/np.array(self.idx_to_ni)\n",
    "        idf[np.isinf(idf)] = 0\n",
    "        self.idx_to_idf = np.log2(idf)\n",
    "        self.idx_to_idf[np.isneginf(self.idx_to_idf)] = 0\n",
    "        # 按TF值进行降序排序\n",
    "        self.idx_to_tf, self.idx_to_idf = insertionSort(self.idx_to_tf, self.idx_to_idf)\n",
    "        \n",
    "\n",
    "    def __len__(self):\n",
    "        return len(self.idx_to_token)\n",
    "\n",
    "    def __getitem__(self, tokens):  # 类索引；词到索引的映射，给定词，返回索引\n",
    "        if not isinstance(tokens, (list, tuple)):\n",
    "            return self.token_to_idx.get(tokens, self.unk)\n",
    "        return [self.__getitem__(token) for token in tokens]\n",
    "\n",
    "    def to_tokens(self, indices):  # 索引到词的映射，给定索引，返回词\n",
    "        if not isinstance(indices, (list, tuple)):\n",
    "            return self.idx_to_token[indices]\n",
    "        return [self.idx_to_token[indindicesex] for index in indices]\n",
    "    \n",
    "    def __getfreq__(self, tokens):  # 索引到词频的映射，给定索引，返回该词频率\n",
    "        if not isinstance(tokens, (list, tuple)):\n",
    "            return self.token_to_num.get(tokens, self.unk)\n",
    "        return [self.__getfreq__(token) for token in tokens]\n",
    "    \n",
    "    def __getfreqlist__(self):  # 获取词频列表：每个词对应的频率组成的列表\n",
    "        return self.idx_to_num\n",
    "    \n",
    "    def __get_ni_list__(self):  # 获取文档频率列表\n",
    "        return self.idx_to_ni"
   ]
  },
  {
   "cell_type": "code",
   "execution_count": 8,
   "id": "7de8f292",
   "metadata": {
    "scrolled": true
   },
   "outputs": [
    {
     "name": "stdout",
     "output_type": "stream",
     "text": [
      "[]\n",
      "[('ad', 20), ('sales', 494), ('boost', 157), ('time', 1322), ('warner', 26)]\n",
      "[('ad', 18), ('sales', 204), ('boost', 127), ('time', 826), ('warner', 13)]\n"
     ]
    }
   ],
   "source": [
    "vocab = Vocab(tokens)\n",
    "print(list(vocab.token_to_idx.items())[0:5])\n",
    "print(list(vocab.token_to_num.items())[0:5])\n",
    "print(list(vocab.token_to_ni.items())[0:5])"
   ]
  },
  {
   "cell_type": "markdown",
   "id": "5188821b",
   "metadata": {},
   "source": [
    "## 作曲线图\n",
    "横坐标ki，纵坐标TF值、TF-IDF值"
   ]
  },
  {
   "cell_type": "code",
   "execution_count": 9,
   "id": "f7d4979e",
   "metadata": {},
   "outputs": [],
   "source": [
    "import matplotlib.pyplot as plt"
   ]
  },
  {
   "cell_type": "code",
   "execution_count": 10,
   "id": "ba68b720",
   "metadata": {},
   "outputs": [
    {
     "data": {
      "image/png": "[encoded data removed]",
      "text/plain": [
       "<Figure size 432x288 with 1 Axes>"
      ]
     },
     "metadata": {
      "needs_background": "light"
     },
     "output_type": "display_data"
    },
    {
     "data": {
      "image/png": "[encoded data removed]",
      "text/plain": [
       "<Figure size 432x288 with 1 Axes>"
      ]
     },
     "metadata": {
      "needs_background": "light"
     },
     "output_type": "display_data"
    }
   ],
   "source": [
    "x = list(range(vocab.__len__()))\n",
    "tf = vocab.idx_to_tf\n",
    "idf = vocab.idx_to_idf\n",
    "plt.xscale('log')\n",
    "#plt.xscale('linear')\n",
    "#plt.yscale('linear')\n",
    "# TF曲线及IDF曲线\n",
    "plt.scatter(x, tf, color='red', marker='+')\n",
    "plt.scatter(x, idf, color='green', marker='*')\n",
    "plt.show()\n",
    "# TF-IDF曲线\n",
    "tf_idf = np.multiply(np.array(tf),np.array(idf))\n",
    "plt.xscale('log')\n",
    "plt.scatter(x, tf_idf, color='green', marker='*')\n",
    "plt.show()"
   ]
  },
  {
   "cell_type": "code",
   "execution_count": null,
   "id": "6494e598",
   "metadata": {},
   "outputs": [],
   "source": []
  }
 ],
 "metadata": {
  "kernelspec": {
   "display_name": "Python 3 (ipykernel)",
   "language": "python",
   "name": "python3"
  },
  "language_info": {
   "codemirror_mode": {
    "name": "ipython",
    "version": 3
   },
   "file_extension": ".py",
   "mimetype": "text/x-python",
   "name": "python",
   "nbconvert_exporter": "python",
   "pygments_lexer": "ipython3",
   "version": "3.7.11"
  }
 },
 "nbformat": 4,
 "nbformat_minor": 5
}
